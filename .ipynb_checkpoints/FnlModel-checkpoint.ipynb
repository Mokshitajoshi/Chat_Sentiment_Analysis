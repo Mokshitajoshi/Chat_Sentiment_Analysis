{
 "cells": [
  {
   "cell_type": "code",
   "execution_count": null,
   "id": "8adf321a-9082-45c6-87e3-0d5ffb7856ab",
   "metadata": {},
   "outputs": [],
   "source": [
    "import numpy as np\n",
    "import pandas as pd\n",
    "import matplotlib.pyplot as plt\n"
   ]
  },
  {
   "cell_type": "code",
   "execution_count": null,
   "id": "cda84cf7-4538-4207-8d1b-504a0f1d077a",
   "metadata": {},
   "outputs": [],
   "source": [
    "from sklearn.feature_extraction.text import TfidfTransformer, CountVectorizer, TfidfVectorizer\n",
    "from sklearn.metrics import confusion_matrix\n",
    "from sklearn.model_selection import train_test_split"
   ]
  },
  {
   "cell_type": "code",
   "execution_count": null,
   "id": "80d40e48-db91-4907-a2b1-51275acf179d",
   "metadata": {},
   "outputs": [],
   "source": [
    "from nltk.stem.porter import PorterStemmer\n",
    "import nltk\n",
    "import re, string\n",
    "from nltk.corpus import stopwords"
   ]
  },
  {
   "cell_type": "code",
   "execution_count": null,
   "id": "5529fbb9-9431-45b6-a2f4-988d926548ac",
   "metadata": {},
   "outputs": [],
   "source": [
    "from sklearn.linear_model import LogisticRegression\n",
    "from sklearn.svm import LinearSVC\n",
    "from sklearn.model_selection import train_test_split\n",
    "from sklearn.ensemble import RandomForestClassifier, AdaBoostClassifier\n",
    "from sklearn.model_selection import cross_val_score"
   ]
  },
  {
   "cell_type": "code",
   "execution_count": null,
   "id": "aa307961-16e3-4d70-80aa-cd1a38460378",
   "metadata": {},
   "outputs": [],
   "source": [
    "from sklearn.metrics import precision_recall_curve\n",
    "from sklearn.metrics import confusion_matrix\n",
    "from sklearn.metrics import roc_curve\n",
    "from sklearn.metrics import accuracy_score\n",
    "from sklearn.metrics import classification_report\n",
    "import matplotlib.pyplot as plt\n",
    "from sklearn.metrics import roc_auc_score\n",
    "from sklearn import metrics"
   ]
  },
  {
   "cell_type": "code",
   "execution_count": null,
   "id": "40829fcf-b41e-4192-88e2-6588dd759464",
   "metadata": {},
   "outputs": [],
   "source": [
    "df = pd.read_json('./Dataset for Detection of Cyber-Trolls.json', lines= True,orient='columns')\n",
    "df.head"
   ]
  },
  {
   "cell_type": "code",
   "execution_count": null,
   "id": "6fd59393-2172-4504-bb78-45b42e61b6bb",
   "metadata": {},
   "outputs": [],
   "source": [
    "for i in range(len(df)):\n",
    "    if df.loc[i, 'annotation']['label'][0] == '1':\n",
    "        df.loc[i, 'annotation'] = 1\n",
    "    else:\n",
    "        df.loc[i, 'annotation'] = 0"
   ]
  },
  {
   "cell_type": "code",
   "execution_count": null,
   "id": "f9eacc07-69c4-40aa-a58f-6792eebd2a82",
   "metadata": {},
   "outputs": [],
   "source": [
    "df.drop(['extras'],axis = 1,inplace = True)\n",
    "df"
   ]
  },
  {
   "cell_type": "code",
   "execution_count": null,
   "id": "3e9dd5b9-b286-464c-b4e6-595f1d5b4ef4",
   "metadata": {},
   "outputs": [],
   "source": [
    "df.shape "
   ]
  },
  {
   "cell_type": "code",
   "execution_count": null,
   "id": "b4a6939a-99fe-43d4-9d72-01cab9befeca",
   "metadata": {},
   "outputs": [],
   "source": [
    "df['annotation'].value_counts().sort_index().plot.barh()"
   ]
  },
  {
   "cell_type": "code",
   "execution_count": null,
   "id": "07d87c70-8c0b-44bf-b3bc-a1827d98575d",
   "metadata": {},
   "outputs": [],
   "source": [
    "print(\"Positive: \", df.annotation.value_counts()[0]/len(df.annotation)*100,\"%\")\n",
    "print(\"Negative: \", df.annotation.value_counts()[1]/len(df.annotation)*100,\"%\")"
   ]
  },
  {
   "cell_type": "code",
   "execution_count": null,
   "id": "718c0627-62fe-45dd-9d62-7282dc785c64",
   "metadata": {},
   "outputs": [],
   "source": [
    "nltk.download('stopwords')\n",
    "stop = stopwords.words('english')\n",
    "\n",
    "regex = re.compile('[%s]' % re.escape(string.punctuation))\n",
    "\n",
    "def test_re(s):\n",
    "    return regex.sub('', s)\n",
    "\n",
    "df ['content_without_stopwords'] = df['content'].apply(lambda x: ' '.join([word for word in x.split() if word not in (stop)]))\n",
    "df ['content_without_puncs'] = df['content_without_stopwords'].apply(lambda x: regex.sub('',x))\n",
    "del df['content_without_stopwords']\n",
    "del df['content']\n",
    "df"
   ]
  },
  {
   "cell_type": "code",
   "execution_count": null,
   "id": "b2433147-ecf4-4e50-9555-00b8f8d86db7",
   "metadata": {},
   "outputs": [],
   "source": [
    "nltk.download('punkt_tab')\n",
    "nltk.download('punkt')\n",
    "porter_stemmer = PorterStemmer()\n",
    "tok_list = []\n",
    "size = df.shape[0]\n",
    "\n",
    "for i in range(size):\n",
    "  word_data = df['content_without_puncs'][i]\n",
    "  nltk_tokens = nltk.word_tokenize(word_data)\n",
    "  final = ''\n",
    "  for w in nltk_tokens:\n",
    "    final = final + ' ' + porter_stemmer.stem(w)\n",
    "  tok_list.append(final)\n",
    "\n",
    "df['content_tokenize'] = tok_list\n",
    "del df['content_without_puncs']\n",
    "df"
   ]
  },
  {
   "cell_type": "code",
   "execution_count": null,
   "id": "6dd0d1f9-2083-49d4-9ea5-a655beb89403",
   "metadata": {},
   "outputs": [],
   "source": [
    "noNums = []\n",
    "for i in range(len(df)):\n",
    "  noNums.append(''.join([i for i in df['content_tokenize'][i] if not i.isdigit()]))\n",
    "\n",
    "df['content'] = noNums\n",
    "df"
   ]
  },
  {
   "cell_type": "code",
   "execution_count": null,
   "id": "3d42d0e5-a52d-4095-8b56-7eabaf487f5c",
   "metadata": {},
   "outputs": [],
   "source": [
    "tfIdfVectorizer=TfidfVectorizer(use_idf=True, sublinear_tf=True)\n",
    "tfIdf = tfIdfVectorizer.fit_transform(df.content.tolist())"
   ]
  },
  {
   "cell_type": "code",
   "execution_count": null,
   "id": "5fadf998-f56d-42d1-ac44-149e024bff65",
   "metadata": {},
   "outputs": [],
   "source": [
    "print(tfIdf.shape)"
   ]
  },
  {
   "cell_type": "code",
   "execution_count": null,
   "id": "5b19e15e-4e05-4751-9835-38b4561e481c",
   "metadata": {},
   "outputs": [],
   "source": [
    "df2 = pd.DataFrame(tfIdf[2].T.todense(), index=tfIdfVectorizer.get_feature_names_out(), columns=[\"TF-IDF\"]) #for second entry only(just to check if working)\n",
    "df2 = df2.sort_values('TF-IDF', ascending=False)\n",
    "print (df2.head(10))"
   ]
  },
  {
   "cell_type": "code",
   "execution_count": null,
   "id": "ef4a7ede-3d00-49e9-ab20-471e2d973e76",
   "metadata": {},
   "outputs": [],
   "source": [
    "dfx = pd.DataFrame(tfIdf.toarray(), columns = tfIdfVectorizer.get_feature_names_out())"
   ]
  },
  {
   "cell_type": "code",
   "execution_count": null,
   "id": "7d1afab5-9edd-4ddb-9fc7-3a56714d8b0f",
   "metadata": {},
   "outputs": [],
   "source": [
    "def display_scores(vectorizer, tfidf_result):\n",
    "    scores = zip(vectorizer.get_feature_names_out(),\n",
    "                 np.asarray(tfidf_result.sum(axis=0)).ravel())\n",
    "    sorted_scores = sorted(scores, key=lambda x: x[1], reverse=True)\n",
    "    i=0\n",
    "    for item in sorted_scores:\n",
    "        print (\"{0:50} Score: {1}\".format(item[0], item[1]))\n",
    "        i = i+1\n",
    "        if (i > 25):\n",
    "          break"
   ]
  },
  {
   "cell_type": "code",
   "execution_count": null,
   "id": "8f23e218-9375-439f-aeb9-91486dd4cbc1",
   "metadata": {},
   "outputs": [],
   "source": [
    "display_scores(tfIdfVectorizer, tfIdf)"
   ]
  },
  {
   "cell_type": "code",
   "execution_count": null,
   "id": "3022fb95-0521-4b8b-b5c5-be993192eb91",
   "metadata": {},
   "outputs": [],
   "source": [
    "X=tfIdf.toarray()\n",
    "y = np.array(df.annotation.tolist())\n",
    "#Spltting\n",
    "X_train, X_test, y_train, y_test = train_test_split(X, y, test_size=0.1, random_state=0)\n",
    "\n",
    "print(X_train.shape)\n",
    "print(y_train.shape)\n",
    "print(X_test.shape)\n",
    "print(y_test.shape)"
   ]
  },
  {
   "cell_type": "code",
   "execution_count": null,
   "id": "327d6a68-1eff-406e-9330-403fe479b55c",
   "metadata": {},
   "outputs": [],
   "source": [
    "unique_elements, counts_elements = np.unique(y_train, return_counts=True)\n",
    "print(np.asarray((unique_elements, counts_elements)))"
   ]
  },
  {
   "cell_type": "code",
   "execution_count": null,
   "id": "38df7482-c39a-481b-b9f4-a8402c0b474c",
   "metadata": {},
   "outputs": [],
   "source": [
    "unique_elements, counts_elements = np.unique(y_test, return_counts=True)\n",
    "print(np.asarray((unique_elements, counts_elements)))"
   ]
  },
  {
   "cell_type": "code",
   "execution_count": null,
   "id": "b567527e-101e-464b-8cdd-d0b2dc552330",
   "metadata": {},
   "outputs": [],
   "source": [
    "from imblearn.over_sampling import RandomOverSampler\n",
    "\n",
    "oversample = RandomOverSampler(sampling_strategy='not majority')\n",
    "X_over, y_over = oversample.fit_resample(X_train, y_train)"
   ]
  },
  {
   "cell_type": "code",
   "execution_count": null,
   "id": "e7d9c6d4-5514-4c4c-85f7-80377a6b4f79",
   "metadata": {},
   "outputs": [],
   "source": [
    "print(X_over.shape)\n",
    "print(y_over.shape)"
   ]
  },
  {
   "cell_type": "code",
   "execution_count": null,
   "id": "3a5e9d07-5374-4a1a-a649-915b1371d83b",
   "metadata": {},
   "outputs": [],
   "source": [
    "unique_elements, counts_elements = np.unique(y_over, return_counts=True)\n",
    "print(np.asarray((unique_elements, counts_elements)))"
   ]
  },
  {
   "cell_type": "code",
   "execution_count": null,
   "id": "9fa829aa-057d-46e3-8a33-0657bc10e7bf",
   "metadata": {},
   "outputs": [],
   "source": [
    "def getStatsFromModel(model):\n",
    "  print(classification_report(y_test, y_pred))\n",
    "  disp = precision_recall_curve(model, X_test, y_test)\n",
    "  disp.ax_.set_title('2-class Precision-Recall curve: '\n",
    "                   'AP={0:0.2f}')\n",
    "  \n",
    "  logit_roc_auc = roc_auc_score(y_test, model.predict(X_test))\n",
    "  fpr, tpr, thresholds = roc_curve(y_test, model.predict_proba(X_test)[:,1])\n",
    "  plt.figure()\n",
    "  plt.plot(fpr, tpr, label='(area = %0.2f)' % logit_roc_auc)\n",
    "  plt.plot([0, 1], [0, 1],'r--')\n",
    "  plt.xlim([0.0, 1.0])\n",
    "  plt.ylim([0.0, 1.05])\n",
    "  plt.xlabel('False Positive Rate')\n",
    "  plt.ylabel('True Positive Rate')\n",
    "  plt.title('Receiver operating characteristic')\n",
    "  plt.legend(loc=\"lower right\")\n",
    "  plt.savefig('Log_ROC')\n",
    "  plt.show()"
   ]
  },
  {
   "cell_type": "code",
   "execution_count": null,
   "id": "f10cd0d8-6fa4-4a6d-a251-2d792ee1d752",
   "metadata": {},
   "outputs": [],
   "source": [
    "rfc = RandomForestClassifier(verbose=True) \n",
    "rfcmodel = rfc.fit(X_over, y_over)\n",
    "y_pred = rfc.predict(X_test)\n",
    "print (\"Score:\", rfcmodel.score(X_test, y_test))\n",
    "print(\"Confusion Matrix: \\n\", confusion_matrix(y_test, y_pred))\n",
    "getStatsFromModel(rfc)"
   ]
  }
 ],
 "metadata": {
  "kernelspec": {
   "display_name": "Python 3 (ipykernel)",
   "language": "python",
   "name": "python3"
  },
  "language_info": {
   "codemirror_mode": {
    "name": "ipython",
    "version": 3
   },
   "file_extension": ".py",
   "mimetype": "text/x-python",
   "name": "python",
   "nbconvert_exporter": "python",
   "pygments_lexer": "ipython3",
   "version": "3.12.1"
  }
 },
 "nbformat": 4,
 "nbformat_minor": 5
}
