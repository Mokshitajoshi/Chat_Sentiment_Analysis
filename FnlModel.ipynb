{
 "cells": [
  {
   "cell_type": "code",
   "execution_count": 1,
   "id": "8adf321a-9082-45c6-87e3-0d5ffb7856ab",
   "metadata": {},
   "outputs": [],
   "source": [
    "import numpy as np\n",
    "import pandas as pd\n",
    "import matplotlib.pyplot as plt\n"
   ]
  },
  {
   "cell_type": "code",
   "execution_count": 2,
   "id": "cda84cf7-4538-4207-8d1b-504a0f1d077a",
   "metadata": {},
   "outputs": [],
   "source": [
    "from sklearn.feature_extraction.text import TfidfTransformer, CountVectorizer, TfidfVectorizer\n",
    "from sklearn.metrics import confusion_matrix\n",
    "from sklearn.model_selection import train_test_split"
   ]
  },
  {
   "cell_type": "code",
   "execution_count": 3,
   "id": "80d40e48-db91-4907-a2b1-51275acf179d",
   "metadata": {},
   "outputs": [],
   "source": [
    "from nltk.stem.porter import PorterStemmer\n",
    "import nltk\n",
    "import re, string\n",
    "from nltk.corpus import stopwords"
   ]
  },
  {
   "cell_type": "code",
   "execution_count": 4,
   "id": "5529fbb9-9431-45b6-a2f4-988d926548ac",
   "metadata": {},
   "outputs": [],
   "source": [
    "from sklearn.linear_model import LogisticRegression\n",
    "from sklearn.svm import LinearSVC\n",
    "from sklearn.model_selection import train_test_split\n",
    "from sklearn.ensemble import RandomForestClassifier, AdaBoostClassifier\n",
    "from sklearn.model_selection import cross_val_score"
   ]
  },
  {
   "cell_type": "code",
   "execution_count": 5,
   "id": "aa307961-16e3-4d70-80aa-cd1a38460378",
   "metadata": {},
   "outputs": [],
   "source": [
    "from sklearn.metrics import precision_recall_curve\n",
    "from sklearn.metrics import confusion_matrix\n",
    "from sklearn.metrics import roc_curve\n",
    "\n",
    "\n",
    "\n",
    "\n",
    "\n",
    "\n",
    "\n",
    "from sklearn.metrics import accuracy_score\n",
    "from sklearn.metrics import classification_report\n",
    "import matplotlib.pyplot as plt\n",
    "from sklearn.metrics import roc_auc_score\n",
    "from sklearn import metrics"
   ]
  },
  {
   "cell_type": "code",
   "execution_count": 6,
   "id": "40829fcf-b41e-4192-88e2-6588dd759464",
   "metadata": {},
   "outputs": [
    {
     "data": {
      "text/plain": [
       "<bound method NDFrame.head of                                                  content  \\\n",
       "0                                 Get fucking real dude.   \n",
       "1      She is as dirty as they come  and that crook R...   \n",
       "2      why did you fuck it up. I could do it all day ...   \n",
       "3      Dude they dont finish enclosing the fucking sh...   \n",
       "4      WTF are you talking about Men? No men thats no...   \n",
       "...                                                  ...   \n",
       "19996  I dont. But what is complaining about it going...   \n",
       "19997  Bahah  yeah i&;m totally just gonna&; get piss...   \n",
       "19998       hahahahaha >:) im evil mwahahahahahahahahaha   \n",
       "19999            What&;s something unique about Ohio? :)   \n",
       "20000              Who is the biggest gossiper you know?   \n",
       "\n",
       "                          annotation  extras  \\\n",
       "0      {'notes': '', 'label': ['1']}     NaN   \n",
       "1      {'notes': '', 'label': ['1']}     NaN   \n",
       "2      {'notes': '', 'label': ['1']}     NaN   \n",
       "3      {'notes': '', 'label': ['1']}     NaN   \n",
       "4      {'notes': '', 'label': ['1']}     NaN   \n",
       "...                              ...     ...   \n",
       "19996  {'notes': '', 'label': ['0']}     NaN   \n",
       "19997  {'notes': '', 'label': ['0']}     NaN   \n",
       "19998  {'notes': '', 'label': ['0']}     NaN   \n",
       "19999  {'notes': '', 'label': ['0']}     NaN   \n",
       "20000  {'notes': '', 'label': ['0']}     NaN   \n",
       "\n",
       "                                                metadata  \n",
       "0      {'first_done_at': 1527503426000, 'last_updated...  \n",
       "1      {'first_done_at': 1527503426000, 'last_updated...  \n",
       "2      {'first_done_at': 1527503426000, 'last_updated...  \n",
       "3      {'first_done_at': 1527503426000, 'last_updated...  \n",
       "4      {'first_done_at': 1527503426000, 'last_updated...  \n",
       "...                                                  ...  \n",
       "19996  {'first_done_at': 1527503519000, 'last_updated...  \n",
       "19997  {'first_done_at': 1527503519000, 'last_updated...  \n",
       "19998  {'first_done_at': 1527503519000, 'last_updated...  \n",
       "19999  {'first_done_at': 1527503519000, 'last_updated...  \n",
       "20000  {'first_done_at': 1527503519000, 'last_updated...  \n",
       "\n",
       "[20001 rows x 4 columns]>"
      ]
     },
     "execution_count": 6,
     "metadata": {},
     "output_type": "execute_result"
    }
   ],
   "source": [
    "df = pd.read_json('./Dataset for Detection of Cyber-Trolls.json', lines= True,orient='columns')\n",
    "df.head"
   ]
  },
  {
   "cell_type": "code",
   "execution_count": 7,
   "id": "6fd59393-2172-4504-bb78-45b42e61b6bb",
   "metadata": {},
   "outputs": [],
   "source": [
    "for i in range(len(df)):\n",
    "    if df.loc[i, 'annotation']['label'][0] == '1':\n",
    "        df.loc[i, 'annotation'] = 1\n",
    "    else:\n",
    "        df.loc[i, 'annotation'] = 0"
   ]
  },
  {
   "cell_type": "code",
   "execution_count": 8,
   "id": "f9eacc07-69c4-40aa-a58f-6792eebd2a82",
   "metadata": {},
   "outputs": [
    {
     "data": {
      "text/html": [
       "<div>\n",
       "<style scoped>\n",
       "    .dataframe tbody tr th:only-of-type {\n",
       "        vertical-align: middle;\n",
       "    }\n",
       "\n",
       "    .dataframe tbody tr th {\n",
       "        vertical-align: top;\n",
       "    }\n",
       "\n",
       "    .dataframe thead th {\n",
       "        text-align: right;\n",
       "    }\n",
       "</style>\n",
       "<table border=\"1\" class=\"dataframe\">\n",
       "  <thead>\n",
       "    <tr style=\"text-align: right;\">\n",
       "      <th></th>\n",
       "      <th>content</th>\n",
       "      <th>annotation</th>\n",
       "      <th>metadata</th>\n",
       "    </tr>\n",
       "  </thead>\n",
       "  <tbody>\n",
       "    <tr>\n",
       "      <th>0</th>\n",
       "      <td>Get fucking real dude.</td>\n",
       "      <td>1</td>\n",
       "      <td>{'first_done_at': 1527503426000, 'last_updated...</td>\n",
       "    </tr>\n",
       "    <tr>\n",
       "      <th>1</th>\n",
       "      <td>She is as dirty as they come  and that crook R...</td>\n",
       "      <td>1</td>\n",
       "      <td>{'first_done_at': 1527503426000, 'last_updated...</td>\n",
       "    </tr>\n",
       "    <tr>\n",
       "      <th>2</th>\n",
       "      <td>why did you fuck it up. I could do it all day ...</td>\n",
       "      <td>1</td>\n",
       "      <td>{'first_done_at': 1527503426000, 'last_updated...</td>\n",
       "    </tr>\n",
       "    <tr>\n",
       "      <th>3</th>\n",
       "      <td>Dude they dont finish enclosing the fucking sh...</td>\n",
       "      <td>1</td>\n",
       "      <td>{'first_done_at': 1527503426000, 'last_updated...</td>\n",
       "    </tr>\n",
       "    <tr>\n",
       "      <th>4</th>\n",
       "      <td>WTF are you talking about Men? No men thats no...</td>\n",
       "      <td>1</td>\n",
       "      <td>{'first_done_at': 1527503426000, 'last_updated...</td>\n",
       "    </tr>\n",
       "    <tr>\n",
       "      <th>...</th>\n",
       "      <td>...</td>\n",
       "      <td>...</td>\n",
       "      <td>...</td>\n",
       "    </tr>\n",
       "    <tr>\n",
       "      <th>19996</th>\n",
       "      <td>I dont. But what is complaining about it going...</td>\n",
       "      <td>0</td>\n",
       "      <td>{'first_done_at': 1527503519000, 'last_updated...</td>\n",
       "    </tr>\n",
       "    <tr>\n",
       "      <th>19997</th>\n",
       "      <td>Bahah  yeah i&amp;;m totally just gonna&amp;; get piss...</td>\n",
       "      <td>0</td>\n",
       "      <td>{'first_done_at': 1527503519000, 'last_updated...</td>\n",
       "    </tr>\n",
       "    <tr>\n",
       "      <th>19998</th>\n",
       "      <td>hahahahaha &gt;:) im evil mwahahahahahahahahaha</td>\n",
       "      <td>0</td>\n",
       "      <td>{'first_done_at': 1527503519000, 'last_updated...</td>\n",
       "    </tr>\n",
       "    <tr>\n",
       "      <th>19999</th>\n",
       "      <td>What&amp;;s something unique about Ohio? :)</td>\n",
       "      <td>0</td>\n",
       "      <td>{'first_done_at': 1527503519000, 'last_updated...</td>\n",
       "    </tr>\n",
       "    <tr>\n",
       "      <th>20000</th>\n",
       "      <td>Who is the biggest gossiper you know?</td>\n",
       "      <td>0</td>\n",
       "      <td>{'first_done_at': 1527503519000, 'last_updated...</td>\n",
       "    </tr>\n",
       "  </tbody>\n",
       "</table>\n",
       "<p>20001 rows × 3 columns</p>\n",
       "</div>"
      ],
      "text/plain": [
       "                                                 content annotation  \\\n",
       "0                                 Get fucking real dude.          1   \n",
       "1      She is as dirty as they come  and that crook R...          1   \n",
       "2      why did you fuck it up. I could do it all day ...          1   \n",
       "3      Dude they dont finish enclosing the fucking sh...          1   \n",
       "4      WTF are you talking about Men? No men thats no...          1   \n",
       "...                                                  ...        ...   \n",
       "19996  I dont. But what is complaining about it going...          0   \n",
       "19997  Bahah  yeah i&;m totally just gonna&; get piss...          0   \n",
       "19998       hahahahaha >:) im evil mwahahahahahahahahaha          0   \n",
       "19999            What&;s something unique about Ohio? :)          0   \n",
       "20000              Who is the biggest gossiper you know?          0   \n",
       "\n",
       "                                                metadata  \n",
       "0      {'first_done_at': 1527503426000, 'last_updated...  \n",
       "1      {'first_done_at': 1527503426000, 'last_updated...  \n",
       "2      {'first_done_at': 1527503426000, 'last_updated...  \n",
       "3      {'first_done_at': 1527503426000, 'last_updated...  \n",
       "4      {'first_done_at': 1527503426000, 'last_updated...  \n",
       "...                                                  ...  \n",
       "19996  {'first_done_at': 1527503519000, 'last_updated...  \n",
       "19997  {'first_done_at': 1527503519000, 'last_updated...  \n",
       "19998  {'first_done_at': 1527503519000, 'last_updated...  \n",
       "19999  {'first_done_at': 1527503519000, 'last_updated...  \n",
       "20000  {'first_done_at': 1527503519000, 'last_updated...  \n",
       "\n",
       "[20001 rows x 3 columns]"
      ]
     },
     "execution_count": 8,
     "metadata": {},
     "output_type": "execute_result"
    }
   ],
   "source": [
    "df.drop(['extras'],axis = 1,inplace = True)\n",
    "df"
   ]
  },
  {
   "cell_type": "code",
   "execution_count": 9,
   "id": "3e9dd5b9-b286-464c-b4e6-595f1d5b4ef4",
   "metadata": {},
   "outputs": [
    {
     "data": {
      "text/plain": [
       "(20001, 3)"
      ]
     },
     "execution_count": 9,
     "metadata": {},
     "output_type": "execute_result"
    }
   ],
   "source": [
    "df.shape "
   ]
  },
  {
   "cell_type": "code",
   "execution_count": 10,
   "id": "b4a6939a-99fe-43d4-9d72-01cab9befeca",
   "metadata": {},
   "outputs": [
    {
     "data": {
      "text/plain": [
       "<Axes: ylabel='annotation'>"
      ]
     },
     "execution_count": 10,
     "metadata": {},
     "output_type": "execute_result"
    },
    {
     "data": {
      "image/png": "[encoded data removed]",
      "text/plain": [
       "<Figure size 640x480 with 1 Axes>"
      ]
     },
     "metadata": {},
     "output_type": "display_data"
    }
   ],
   "source": [
    "df['annotation'].value_counts().sort_index().plot.barh()"
   ]
  },
  {
   "cell_type": "code",
   "execution_count": 11,
   "id": "07d87c70-8c0b-44bf-b3bc-a1827d98575d",
   "metadata": {},
   "outputs": [
    {
     "name": "stdout",
     "output_type": "stream",
     "text": [
      "Positive:  60.89195540222989 %\n",
      "Negative:  39.10804459777012 %\n"
     ]
    }
   ],
   "source": [
    "print(\"Positive: \", df.annotation.value_counts()[0]/len(df.annotation)*100,\"%\")\n",
    "print(\"Negative: \", df.annotation.value_counts()[1]/len(df.annotation)*100,\"%\")"
   ]
  },
  {
   "cell_type": "code",
   "execution_count": 12,
   "id": "718c0627-62fe-45dd-9d62-7282dc785c64",
   "metadata": {},
   "outputs": [
    {
     "name": "stderr",
     "output_type": "stream",
     "text": [
      "[nltk_data] Downloading package stopwords to\n",
      "[nltk_data]     C:\\Users\\MOKSHITA\\AppData\\Roaming\\nltk_data...\n",
      "[nltk_data]   Package stopwords is already up-to-date!\n"
     ]
    },
    {
     "data": {
      "text/html": [
       "<div>\n",
       "<style scoped>\n",
       "    .dataframe tbody tr th:only-of-type {\n",
       "        vertical-align: middle;\n",
       "    }\n",
       "\n",
       "    .dataframe tbody tr th {\n",
       "        vertical-align: top;\n",
       "    }\n",
       "\n",
       "    .dataframe thead th {\n",
       "        text-align: right;\n",
       "    }\n",
       "</style>\n",
       "<table border=\"1\" class=\"dataframe\">\n",
       "  <thead>\n",
       "    <tr style=\"text-align: right;\">\n",
       "      <th></th>\n",
       "      <th>annotation</th>\n",
       "      <th>metadata</th>\n",
       "      <th>content_without_puncs</th>\n",
       "    </tr>\n",
       "  </thead>\n",
       "  <tbody>\n",
       "    <tr>\n",
       "      <th>0</th>\n",
       "      <td>1</td>\n",
       "      <td>{'first_done_at': 1527503426000, 'last_updated...</td>\n",
       "      <td>Get fucking real dude</td>\n",
       "    </tr>\n",
       "    <tr>\n",
       "      <th>1</th>\n",
       "      <td>1</td>\n",
       "      <td>{'first_done_at': 1527503426000, 'last_updated...</td>\n",
       "      <td>She dirty come crook Rengel Dems fucking corru...</td>\n",
       "    </tr>\n",
       "    <tr>\n",
       "      <th>2</th>\n",
       "      <td>1</td>\n",
       "      <td>{'first_done_at': 1527503426000, 'last_updated...</td>\n",
       "      <td>fuck up I could day too Lets hour Ping later s...</td>\n",
       "    </tr>\n",
       "    <tr>\n",
       "      <th>3</th>\n",
       "      <td>1</td>\n",
       "      <td>{'first_done_at': 1527503426000, 'last_updated...</td>\n",
       "      <td>Dude dont finish enclosing fucking showers I h...</td>\n",
       "    </tr>\n",
       "    <tr>\n",
       "      <th>4</th>\n",
       "      <td>1</td>\n",
       "      <td>{'first_done_at': 1527503426000, 'last_updated...</td>\n",
       "      <td>WTF talking Men No men thats menage thats gay</td>\n",
       "    </tr>\n",
       "    <tr>\n",
       "      <th>...</th>\n",
       "      <td>...</td>\n",
       "      <td>...</td>\n",
       "      <td>...</td>\n",
       "    </tr>\n",
       "    <tr>\n",
       "      <th>19996</th>\n",
       "      <td>0</td>\n",
       "      <td>{'first_done_at': 1527503519000, 'last_updated...</td>\n",
       "      <td>I dont But complaining going do</td>\n",
       "    </tr>\n",
       "    <tr>\n",
       "      <th>19997</th>\n",
       "      <td>0</td>\n",
       "      <td>{'first_done_at': 1527503519000, 'last_updated...</td>\n",
       "      <td>Bahah yeah im totally gonna get pissed talking...</td>\n",
       "    </tr>\n",
       "    <tr>\n",
       "      <th>19998</th>\n",
       "      <td>0</td>\n",
       "      <td>{'first_done_at': 1527503519000, 'last_updated...</td>\n",
       "      <td>hahahahaha  im evil mwahahahahahahahahaha</td>\n",
       "    </tr>\n",
       "    <tr>\n",
       "      <th>19999</th>\n",
       "      <td>0</td>\n",
       "      <td>{'first_done_at': 1527503519000, 'last_updated...</td>\n",
       "      <td>Whats something unique Ohio</td>\n",
       "    </tr>\n",
       "    <tr>\n",
       "      <th>20000</th>\n",
       "      <td>0</td>\n",
       "      <td>{'first_done_at': 1527503519000, 'last_updated...</td>\n",
       "      <td>Who biggest gossiper know</td>\n",
       "    </tr>\n",
       "  </tbody>\n",
       "</table>\n",
       "<p>20001 rows × 3 columns</p>\n",
       "</div>"
      ],
      "text/plain": [
       "      annotation                                           metadata  \\\n",
       "0              1  {'first_done_at': 1527503426000, 'last_updated...   \n",
       "1              1  {'first_done_at': 1527503426000, 'last_updated...   \n",
       "2              1  {'first_done_at': 1527503426000, 'last_updated...   \n",
       "3              1  {'first_done_at': 1527503426000, 'last_updated...   \n",
       "4              1  {'first_done_at': 1527503426000, 'last_updated...   \n",
       "...          ...                                                ...   \n",
       "19996          0  {'first_done_at': 1527503519000, 'last_updated...   \n",
       "19997          0  {'first_done_at': 1527503519000, 'last_updated...   \n",
       "19998          0  {'first_done_at': 1527503519000, 'last_updated...   \n",
       "19999          0  {'first_done_at': 1527503519000, 'last_updated...   \n",
       "20000          0  {'first_done_at': 1527503519000, 'last_updated...   \n",
       "\n",
       "                                   content_without_puncs  \n",
       "0                                  Get fucking real dude  \n",
       "1      She dirty come crook Rengel Dems fucking corru...  \n",
       "2      fuck up I could day too Lets hour Ping later s...  \n",
       "3      Dude dont finish enclosing fucking showers I h...  \n",
       "4          WTF talking Men No men thats menage thats gay  \n",
       "...                                                  ...  \n",
       "19996                    I dont But complaining going do  \n",
       "19997  Bahah yeah im totally gonna get pissed talking...  \n",
       "19998          hahahahaha  im evil mwahahahahahahahahaha  \n",
       "19999                       Whats something unique Ohio   \n",
       "20000                          Who biggest gossiper know  \n",
       "\n",
       "[20001 rows x 3 columns]"
      ]
     },
     "execution_count": 12,
     "metadata": {},
     "output_type": "execute_result"
    }
   ],
   "source": [
    "nltk.download('stopwords')\n",
    "stop = stopwords.words('english')\n",
    "\n",
    "regex = re.compile('[%s]' % re.escape(string.punctuation))\n",
    "\n",
    "def test_re(s):\n",
    "    return regex.sub('', s)\n",
    "\n",
    "df ['content_without_stopwords'] = df['content'].apply(lambda x: ' '.join([word for word in x.split() if word not in (stop)]))\n",
    "df ['content_without_puncs'] = df['content_without_stopwords'].apply(lambda x: regex.sub('',x))\n",
    "del df['content_without_stopwords']\n",
    "del df['content']\n",
    "df"
   ]
  },
  {
   "cell_type": "code",
   "execution_count": 13,
   "id": "b2433147-ecf4-4e50-9555-00b8f8d86db7",
   "metadata": {},
   "outputs": [
    {
     "name": "stderr",
     "output_type": "stream",
     "text": [
      "[nltk_data] Downloading package punkt_tab to\n",
      "[nltk_data]     C:\\Users\\MOKSHITA\\AppData\\Roaming\\nltk_data...\n",
      "[nltk_data]   Package punkt_tab is already up-to-date!\n",
      "[nltk_data] Downloading package punkt to\n",
      "[nltk_data]     C:\\Users\\MOKSHITA\\AppData\\Roaming\\nltk_data...\n",
      "[nltk_data]   Package punkt is already up-to-date!\n"
     ]
    },
    {
     "data": {
      "text/html": [
       "<div>\n",
       "<style scoped>\n",
       "    .dataframe tbody tr th:only-of-type {\n",
       "        vertical-align: middle;\n",
       "    }\n",
       "\n",
       "    .dataframe tbody tr th {\n",
       "        vertical-align: top;\n",
       "    }\n",
       "\n",
       "    .dataframe thead th {\n",
       "        text-align: right;\n",
       "    }\n",
       "</style>\n",
       "<table border=\"1\" class=\"dataframe\">\n",
       "  <thead>\n",
       "    <tr style=\"text-align: right;\">\n",
       "      <th></th>\n",
       "      <th>annotation</th>\n",
       "      <th>metadata</th>\n",
       "      <th>content_tokenize</th>\n",
       "    </tr>\n",
       "  </thead>\n",
       "  <tbody>\n",
       "    <tr>\n",
       "      <th>0</th>\n",
       "      <td>1</td>\n",
       "      <td>{'first_done_at': 1527503426000, 'last_updated...</td>\n",
       "      <td>get fuck real dude</td>\n",
       "    </tr>\n",
       "    <tr>\n",
       "      <th>1</th>\n",
       "      <td>1</td>\n",
       "      <td>{'first_done_at': 1527503426000, 'last_updated...</td>\n",
       "      <td>she dirti come crook rengel dem fuck corrupt ...</td>\n",
       "    </tr>\n",
       "    <tr>\n",
       "      <th>2</th>\n",
       "      <td>1</td>\n",
       "      <td>{'first_done_at': 1527503426000, 'last_updated...</td>\n",
       "      <td>fuck up i could day too let hour ping later s...</td>\n",
       "    </tr>\n",
       "    <tr>\n",
       "      <th>3</th>\n",
       "      <td>1</td>\n",
       "      <td>{'first_done_at': 1527503426000, 'last_updated...</td>\n",
       "      <td>dude dont finish enclos fuck shower i hate ha...</td>\n",
       "    </tr>\n",
       "    <tr>\n",
       "      <th>4</th>\n",
       "      <td>1</td>\n",
       "      <td>{'first_done_at': 1527503426000, 'last_updated...</td>\n",
       "      <td>wtf talk men no men that menag that gay</td>\n",
       "    </tr>\n",
       "    <tr>\n",
       "      <th>...</th>\n",
       "      <td>...</td>\n",
       "      <td>...</td>\n",
       "      <td>...</td>\n",
       "    </tr>\n",
       "    <tr>\n",
       "      <th>19996</th>\n",
       "      <td>0</td>\n",
       "      <td>{'first_done_at': 1527503519000, 'last_updated...</td>\n",
       "      <td>i dont but complain go do</td>\n",
       "    </tr>\n",
       "    <tr>\n",
       "      <th>19997</th>\n",
       "      <td>0</td>\n",
       "      <td>{'first_done_at': 1527503519000, 'last_updated...</td>\n",
       "      <td>bahah yeah im total gon na get piss talk you ...</td>\n",
       "    </tr>\n",
       "    <tr>\n",
       "      <th>19998</th>\n",
       "      <td>0</td>\n",
       "      <td>{'first_done_at': 1527503519000, 'last_updated...</td>\n",
       "      <td>hahahahaha im evil mwahahahahahahahahaha</td>\n",
       "    </tr>\n",
       "    <tr>\n",
       "      <th>19999</th>\n",
       "      <td>0</td>\n",
       "      <td>{'first_done_at': 1527503519000, 'last_updated...</td>\n",
       "      <td>what someth uniqu ohio</td>\n",
       "    </tr>\n",
       "    <tr>\n",
       "      <th>20000</th>\n",
       "      <td>0</td>\n",
       "      <td>{'first_done_at': 1527503519000, 'last_updated...</td>\n",
       "      <td>who biggest gossip know</td>\n",
       "    </tr>\n",
       "  </tbody>\n",
       "</table>\n",
       "<p>20001 rows × 3 columns</p>\n",
       "</div>"
      ],
      "text/plain": [
       "      annotation                                           metadata  \\\n",
       "0              1  {'first_done_at': 1527503426000, 'last_updated...   \n",
       "1              1  {'first_done_at': 1527503426000, 'last_updated...   \n",
       "2              1  {'first_done_at': 1527503426000, 'last_updated...   \n",
       "3              1  {'first_done_at': 1527503426000, 'last_updated...   \n",
       "4              1  {'first_done_at': 1527503426000, 'last_updated...   \n",
       "...          ...                                                ...   \n",
       "19996          0  {'first_done_at': 1527503519000, 'last_updated...   \n",
       "19997          0  {'first_done_at': 1527503519000, 'last_updated...   \n",
       "19998          0  {'first_done_at': 1527503519000, 'last_updated...   \n",
       "19999          0  {'first_done_at': 1527503519000, 'last_updated...   \n",
       "20000          0  {'first_done_at': 1527503519000, 'last_updated...   \n",
       "\n",
       "                                        content_tokenize  \n",
       "0                                     get fuck real dude  \n",
       "1       she dirti come crook rengel dem fuck corrupt ...  \n",
       "2       fuck up i could day too let hour ping later s...  \n",
       "3       dude dont finish enclos fuck shower i hate ha...  \n",
       "4                wtf talk men no men that menag that gay  \n",
       "...                                                  ...  \n",
       "19996                          i dont but complain go do  \n",
       "19997   bahah yeah im total gon na get piss talk you ...  \n",
       "19998           hahahahaha im evil mwahahahahahahahahaha  \n",
       "19999                             what someth uniqu ohio  \n",
       "20000                            who biggest gossip know  \n",
       "\n",
       "[20001 rows x 3 columns]"
      ]
     },
     "execution_count": 13,
     "metadata": {},
     "output_type": "execute_result"
    }
   ],
   "source": [
    "nltk.download('punkt_tab')\n",
    "nltk.download('punkt')\n",
    "porter_stemmer = PorterStemmer()\n",
    "tok_list = []\n",
    "size = df.shape[0]\n",
    "\n",
    "for i in range(size):\n",
    "  word_data = df['content_without_puncs'][i]\n",
    "  nltk_tokens = nltk.word_tokenize(word_data)\n",
    "  final = ''\n",
    "  for w in nltk_tokens:\n",
    "    final = final + ' ' + porter_stemmer.stem(w)\n",
    "  tok_list.append(final)\n",
    "\n",
    "df['content_tokenize'] = tok_list\n",
    "del df['content_without_puncs']\n",
    "df"
   ]
  },
  {
   "cell_type": "code",
   "execution_count": 14,
   "id": "6dd0d1f9-2083-49d4-9ea5-a655beb89403",
   "metadata": {},
   "outputs": [
    {
     "data": {
      "text/html": [
       "<div>\n",
       "<style scoped>\n",
       "    .dataframe tbody tr th:only-of-type {\n",
       "        vertical-align: middle;\n",
       "    }\n",
       "\n",
       "    .dataframe tbody tr th {\n",
       "        vertical-align: top;\n",
       "    }\n",
       "\n",
       "    .dataframe thead th {\n",
       "        text-align: right;\n",
       "    }\n",
       "</style>\n",
       "<table border=\"1\" class=\"dataframe\">\n",
       "  <thead>\n",
       "    <tr style=\"text-align: right;\">\n",
       "      <th></th>\n",
       "      <th>annotation</th>\n",
       "      <th>metadata</th>\n",
       "      <th>content_tokenize</th>\n",
       "      <th>content</th>\n",
       "    </tr>\n",
       "  </thead>\n",
       "  <tbody>\n",
       "    <tr>\n",
       "      <th>0</th>\n",
       "      <td>1</td>\n",
       "      <td>{'first_done_at': 1527503426000, 'last_updated...</td>\n",
       "      <td>get fuck real dude</td>\n",
       "      <td>get fuck real dude</td>\n",
       "    </tr>\n",
       "    <tr>\n",
       "      <th>1</th>\n",
       "      <td>1</td>\n",
       "      <td>{'first_done_at': 1527503426000, 'last_updated...</td>\n",
       "      <td>she dirti come crook rengel dem fuck corrupt ...</td>\n",
       "      <td>she dirti come crook rengel dem fuck corrupt ...</td>\n",
       "    </tr>\n",
       "    <tr>\n",
       "      <th>2</th>\n",
       "      <td>1</td>\n",
       "      <td>{'first_done_at': 1527503426000, 'last_updated...</td>\n",
       "      <td>fuck up i could day too let hour ping later s...</td>\n",
       "      <td>fuck up i could day too let hour ping later s...</td>\n",
       "    </tr>\n",
       "    <tr>\n",
       "      <th>3</th>\n",
       "      <td>1</td>\n",
       "      <td>{'first_done_at': 1527503426000, 'last_updated...</td>\n",
       "      <td>dude dont finish enclos fuck shower i hate ha...</td>\n",
       "      <td>dude dont finish enclos fuck shower i hate ha...</td>\n",
       "    </tr>\n",
       "    <tr>\n",
       "      <th>4</th>\n",
       "      <td>1</td>\n",
       "      <td>{'first_done_at': 1527503426000, 'last_updated...</td>\n",
       "      <td>wtf talk men no men that menag that gay</td>\n",
       "      <td>wtf talk men no men that menag that gay</td>\n",
       "    </tr>\n",
       "    <tr>\n",
       "      <th>...</th>\n",
       "      <td>...</td>\n",
       "      <td>...</td>\n",
       "      <td>...</td>\n",
       "      <td>...</td>\n",
       "    </tr>\n",
       "    <tr>\n",
       "      <th>19996</th>\n",
       "      <td>0</td>\n",
       "      <td>{'first_done_at': 1527503519000, 'last_updated...</td>\n",
       "      <td>i dont but complain go do</td>\n",
       "      <td>i dont but complain go do</td>\n",
       "    </tr>\n",
       "    <tr>\n",
       "      <th>19997</th>\n",
       "      <td>0</td>\n",
       "      <td>{'first_done_at': 1527503519000, 'last_updated...</td>\n",
       "      <td>bahah yeah im total gon na get piss talk you ...</td>\n",
       "      <td>bahah yeah im total gon na get piss talk you ...</td>\n",
       "    </tr>\n",
       "    <tr>\n",
       "      <th>19998</th>\n",
       "      <td>0</td>\n",
       "      <td>{'first_done_at': 1527503519000, 'last_updated...</td>\n",
       "      <td>hahahahaha im evil mwahahahahahahahahaha</td>\n",
       "      <td>hahahahaha im evil mwahahahahahahahahaha</td>\n",
       "    </tr>\n",
       "    <tr>\n",
       "      <th>19999</th>\n",
       "      <td>0</td>\n",
       "      <td>{'first_done_at': 1527503519000, 'last_updated...</td>\n",
       "      <td>what someth uniqu ohio</td>\n",
       "      <td>what someth uniqu ohio</td>\n",
       "    </tr>\n",
       "    <tr>\n",
       "      <th>20000</th>\n",
       "      <td>0</td>\n",
       "      <td>{'first_done_at': 1527503519000, 'last_updated...</td>\n",
       "      <td>who biggest gossip know</td>\n",
       "      <td>who biggest gossip know</td>\n",
       "    </tr>\n",
       "  </tbody>\n",
       "</table>\n",
       "<p>20001 rows × 4 columns</p>\n",
       "</div>"
      ],
      "text/plain": [
       "      annotation                                           metadata  \\\n",
       "0              1  {'first_done_at': 1527503426000, 'last_updated...   \n",
       "1              1  {'first_done_at': 1527503426000, 'last_updated...   \n",
       "2              1  {'first_done_at': 1527503426000, 'last_updated...   \n",
       "3              1  {'first_done_at': 1527503426000, 'last_updated...   \n",
       "4              1  {'first_done_at': 1527503426000, 'last_updated...   \n",
       "...          ...                                                ...   \n",
       "19996          0  {'first_done_at': 1527503519000, 'last_updated...   \n",
       "19997          0  {'first_done_at': 1527503519000, 'last_updated...   \n",
       "19998          0  {'first_done_at': 1527503519000, 'last_updated...   \n",
       "19999          0  {'first_done_at': 1527503519000, 'last_updated...   \n",
       "20000          0  {'first_done_at': 1527503519000, 'last_updated...   \n",
       "\n",
       "                                        content_tokenize  \\\n",
       "0                                     get fuck real dude   \n",
       "1       she dirti come crook rengel dem fuck corrupt ...   \n",
       "2       fuck up i could day too let hour ping later s...   \n",
       "3       dude dont finish enclos fuck shower i hate ha...   \n",
       "4                wtf talk men no men that menag that gay   \n",
       "...                                                  ...   \n",
       "19996                          i dont but complain go do   \n",
       "19997   bahah yeah im total gon na get piss talk you ...   \n",
       "19998           hahahahaha im evil mwahahahahahahahahaha   \n",
       "19999                             what someth uniqu ohio   \n",
       "20000                            who biggest gossip know   \n",
       "\n",
       "                                                 content  \n",
       "0                                     get fuck real dude  \n",
       "1       she dirti come crook rengel dem fuck corrupt ...  \n",
       "2       fuck up i could day too let hour ping later s...  \n",
       "3       dude dont finish enclos fuck shower i hate ha...  \n",
       "4                wtf talk men no men that menag that gay  \n",
       "...                                                  ...  \n",
       "19996                          i dont but complain go do  \n",
       "19997   bahah yeah im total gon na get piss talk you ...  \n",
       "19998           hahahahaha im evil mwahahahahahahahahaha  \n",
       "19999                             what someth uniqu ohio  \n",
       "20000                            who biggest gossip know  \n",
       "\n",
       "[20001 rows x 4 columns]"
      ]
     },
     "execution_count": 14,
     "metadata": {},
     "output_type": "execute_result"
    }
   ],
   "source": [
    "noNums = []\n",
    "for i in range(len(df)):\n",
    "  noNums.append(''.join([i for i in df['content_tokenize'][i] if not i.isdigit()]))\n",
    "\n",
    "df['content'] = noNums\n",
    "df"
   ]
  },
  {
   "cell_type": "code",
   "execution_count": 15,
   "id": "3d42d0e5-a52d-4095-8b56-7eabaf487f5c",
   "metadata": {},
   "outputs": [],
   "source": [
    "tfIdfVectorizer=TfidfVectorizer(use_idf=True, sublinear_tf=True)\n",
    "tfIdf = tfIdfVectorizer.fit_transform(df.content.tolist())"
   ]
  },
  {
   "cell_type": "code",
   "execution_count": 16,
   "id": "5fadf998-f56d-42d1-ac44-149e024bff65",
   "metadata": {},
   "outputs": [
    {
     "name": "stdout",
     "output_type": "stream",
     "text": [
      "(20001, 14783)\n"
     ]
    }
   ],
   "source": [
    "print(tfIdf.shape)"
   ]
  },
  {
   "cell_type": "code",
   "execution_count": 17,
   "id": "5b19e15e-4e05-4751-9835-38b4561e481c",
   "metadata": {},
   "outputs": [
    {
     "name": "stdout",
     "output_type": "stream",
     "text": [
      "         TF-IDF\n",
      "sched  0.413066\n",
      "ping   0.382982\n",
      "later  0.306131\n",
      "write  0.287619\n",
      "book   0.285848\n",
      "hour   0.281449\n",
      "here   0.262648\n",
      "let    0.241995\n",
      "up     0.237401\n",
      "could  0.223151\n"
     ]
    }
   ],
   "source": [
    "df2 = pd.DataFrame(tfIdf[2].T.todense(), index=tfIdfVectorizer.get_feature_names_out(), columns=[\"TF-IDF\"]) #for second entry only(just to check if working)\n",
    "df2 = df2.sort_values('TF-IDF', ascending=False)\n",
    "print (df2.head(10))"
   ]
  },
  {
   "cell_type": "code",
   "execution_count": 18,
   "id": "ef4a7ede-3d00-49e9-ab20-471e2d973e76",
   "metadata": {},
   "outputs": [],
   "source": [
    "dfx = pd.DataFrame(tfIdf.toarray(), columns = tfIdfVectorizer.get_feature_names_out())"
   ]
  },
  {
   "cell_type": "code",
   "execution_count": 19,
   "id": "7d1afab5-9edd-4ddb-9fc7-3a56714d8b0f",
   "metadata": {},
   "outputs": [],
   "source": [
    "def display_scores(vectorizer, tfidf_result):\n",
    "    scores = zip(vectorizer.get_feature_names_out(),\n",
    "                 np.asarray(tfidf_result.sum(axis=0)).ravel())\n",
    "    sorted_scores = sorted(scores, key=lambda x: x[1], reverse=True)\n",
    "    i=0\n",
    "    for item in sorted_scores:\n",
    "        print (\"{0:50} Score: {1}\".format(item[0], item[1]))\n",
    "        i = i+1\n",
    "        if (i > 25):\n",
    "          break"
   ]
  },
  {
   "cell_type": "code",
   "execution_count": 20,
   "id": "8f23e218-9375-439f-aeb9-91486dd4cbc1",
   "metadata": {},
   "outputs": [
    {
     "name": "stdout",
     "output_type": "stream",
     "text": [
      "hate                                               Score: 533.8157298036014\n",
      "fuck                                               Score: 503.76150769255435\n",
      "damn                                               Score: 482.3875012051478\n",
      "suck                                               Score: 407.37790877127185\n",
      "ass                                                Score: 337.54089621427744\n",
      "that                                               Score: 311.6250930420745\n",
      "lol                                                Score: 298.0085779872157\n",
      "im                                                 Score: 296.0216055277791\n",
      "like                                               Score: 287.8183474868775\n",
      "you                                                Score: 284.7850587424088\n",
      "it                                                 Score: 254.75722294501585\n",
      "get                                                Score: 253.19747902607998\n",
      "what                                               Score: 221.43673623523864\n",
      "know                                               Score: 211.53595900888456\n",
      "would                                              Score: 202.5073882820925\n",
      "bitch                                              Score: 193.08800391463464\n",
      "ye                                                 Score: 182.22364463196365\n",
      "love                                               Score: 181.49014270754344\n",
      "go                                                 Score: 180.2588319545915\n",
      "haha                                               Score: 179.29466045019018\n",
      "think                                              Score: 178.9039058038677\n",
      "one                                                Score: 174.16019276608517\n",
      "do                                                 Score: 160.57524593088053\n",
      "time                                               Score: 160.1100301847739\n",
      "gay                                                Score: 159.5820454915121\n",
      "peopl                                              Score: 151.04499856119287\n"
     ]
    }
   ],
   "source": [
    "display_scores(tfIdfVectorizer, tfIdf)"
   ]
  },
  {
   "cell_type": "code",
   "execution_count": 21,
   "id": "3022fb95-0521-4b8b-b5c5-be993192eb91",
   "metadata": {},
   "outputs": [
    {
     "name": "stdout",
     "output_type": "stream",
     "text": [
      "(18000, 14783)\n",
      "(18000,)\n",
      "(2001, 14783)\n",
      "(2001,)\n"
     ]
    }
   ],
   "source": [
    "X=tfIdf.toarray()\n",
    "y = np.array(df.annotation.tolist())\n",
    "#Spltting\n",
    "X_train, X_test, y_train, y_test = train_test_split(X, y, test_size=0.1, random_state=0)\n",
    "\n",
    "print(X_train.shape)\n",
    "print(y_train.shape)\n",
    "print(X_test.shape)\n",
    "print(y_test.shape)"
   ]
  },
  {
   "cell_type": "code",
   "execution_count": 22,
   "id": "327d6a68-1eff-406e-9330-403fe479b55c",
   "metadata": {},
   "outputs": [
    {
     "name": "stdout",
     "output_type": "stream",
     "text": [
      "[[    0     1]\n",
      " [10964  7036]]\n"
     ]
    }
   ],
   "source": [
    "unique_elements, counts_elements = np.unique(y_train, return_counts=True)\n",
    "print(np.asarray((unique_elements, counts_elements)))"
   ]
  },
  {
   "cell_type": "code",
   "execution_count": 23,
   "id": "38df7482-c39a-481b-b9f4-a8402c0b474c",
   "metadata": {},
   "outputs": [
    {
     "name": "stdout",
     "output_type": "stream",
     "text": [
      "[[   0    1]\n",
      " [1215  786]]\n"
     ]
    }
   ],
   "source": [
    "unique_elements, counts_elements = np.unique(y_test, return_counts=True)\n",
    "print(np.asarray((unique_elements, counts_elements)))"
   ]
  },
  {
   "cell_type": "code",
   "execution_count": 24,
   "id": "b567527e-101e-464b-8cdd-d0b2dc552330",
   "metadata": {},
   "outputs": [],
   "source": [
    "from imblearn.over_sampling import RandomOverSampler\n",
    "\n",
    "oversample = RandomOverSampler(sampling_strategy='not majority')\n",
    "X_over, y_over = oversample.fit_resample(X_train, y_train)"
   ]
  },
  {
   "cell_type": "code",
   "execution_count": 25,
   "id": "e7d9c6d4-5514-4c4c-85f7-80377a6b4f79",
   "metadata": {},
   "outputs": [
    {
     "name": "stdout",
     "output_type": "stream",
     "text": [
      "(21928, 14783)\n",
      "(21928,)\n"
     ]
    }
   ],
   "source": [
    "print(X_over.shape)\n",
    "print(y_over.shape)"
   ]
  },
  {
   "cell_type": "code",
   "execution_count": 26,
   "id": "3a5e9d07-5374-4a1a-a649-915b1371d83b",
   "metadata": {},
   "outputs": [
    {
     "name": "stdout",
     "output_type": "stream",
     "text": [
      "[[    0     1]\n",
      " [10964 10964]]\n"
     ]
    }
   ],
   "source": [
    "unique_elements, counts_elements = np.unique(y_over, return_counts=True)\n",
    "print(np.asarray((unique_elements, counts_elements)))"
   ]
  },
  {
   "cell_type": "code",
   "execution_count": 27,
   "id": "9fa829aa-057d-46e3-8a33-0657bc10e7bf",
   "metadata": {},
   "outputs": [],
   "source": [
    "def getStatsFromModel(model):\n",
    "  print(classification_report(y_test, y_pred))\n",
    "  disp = plot_precision_recall_curve(model, X_test, y_test)\n",
    "  disp.ax_.set_title('2-class Precision-Recall curve: '\n",
    "                   'AP={0:0.2f}')\n",
    "  \n",
    "  logit_roc_auc = roc_auc_score(y_test, model.predict(X_test))\n",
    "  fpr, tpr, thresholds = roc_curve(y_test, model.predict_proba(X_test)[:,1])\n",
    "  plt.figure()\n",
    "  plt.plot(fpr, tpr, label='(area = %0.2f)' % logit_roc_auc)\n",
    "  plt.plot([0, 1], [0, 1],'r--')\n",
    "  plt.xlim([0.0, 1.0])\n",
    "  plt.ylim([0.0, 1.05])\n",
    "  plt.xlabel('False Positive Rate')\n",
    "  plt.ylabel('True Positive Rate')\n",
    "  plt.title('Receiver operating characteristic')\n",
    "  plt.legend(loc=\"lower right\")\n",
    "  plt.savefig('Log_ROC')\n",
    "  plt.show()"
   ]
  },
  {
   "cell_type": "code",
   "execution_count": null,
   "id": "f10cd0d8-6fa4-4a6d-a251-2d792ee1d752",
   "metadata": {},
   "outputs": [
    {
     "name": "stderr",
     "output_type": "stream",
     "text": [
      "[Parallel(n_jobs=1)]: Done  49 tasks      | elapsed:  6.1min\n"
     ]
    }
   ],
   "source": [
    "rfc = RandomForestClassifier(verbose=True) \n",
    "rfcmodel = rfc.fit(X_over, y_over)\n",
    "y_pred = rfc.predict(X_test)\n",
    "print (\"Score:\", rfcmodel.score(X_test, y_test))\n",
    "print(\"Confusion Matrix: \\n\", confusion_matrix(y_test, y_pred))\n",
    "getStatsFromModel(rfc)"
   ]
  },
  {
   "cell_type": "code",
   "execution_count": null,
   "id": "9d52c800-55a1-48da-a223-d020a224b482",
   "metadata": {},
   "outputs": [],
   "source": []
  },
  {
   "cell_type": "code",
   "execution_count": null,
   "id": "59b39f2b-04fc-4288-bd75-9b388427c669",
   "metadata": {},
   "outputs": [],
   "source": []
  }
 ],
 "metadata": {
  "kernelspec": {
   "display_name": "Python 3 (ipykernel)",
   "language": "python",
   "name": "python3"
  },
  "language_info": {
   "codemirror_mode": {
    "name": "ipython",
    "version": 3
   },
   "file_extension": ".py",
   "mimetype": "text/x-python",
   "name": "python",
   "nbconvert_exporter": "python",
   "pygments_lexer": "ipython3",
   "version": "3.12.1"
  }
 },
 "nbformat": 4,
 "nbformat_minor": 5
}
